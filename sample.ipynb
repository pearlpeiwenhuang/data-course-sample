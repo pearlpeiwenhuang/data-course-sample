{
  "cells": [
    {
      "cell_type": "markdown",
      "metadata": {
        "id": "oeWLDcenTKRL"
      },
      "source": [
        "# Sample Code"
      ],
      "id": "oeWLDcenTKRL"
    },
    {
      "cell_type": "code",
      "source": [
        "!apt-get -y install openjdk-8-jre-headless\n",
        "!pip install pyspark"
      ],
      "metadata": {
        "id": "64g6Da94KGQ8",
        "outputId": "e2b649d1-daa3-4485-d7b4-3ec1fc17a26d",
        "colab": {
          "base_uri": "https://localhost:8080/"
        }
      },
      "id": "64g6Da94KGQ8",
      "execution_count": 10,
      "outputs": [
        {
          "output_type": "stream",
          "name": "stdout",
          "text": [
            "Reading package lists... Done\n",
            "Building dependency tree       \n",
            "Reading state information... Done\n",
            "Suggested packages:\n",
            "  libnss-mdns fonts-dejavu-extra fonts-ipafont-gothic fonts-ipafont-mincho\n",
            "  fonts-wqy-microhei fonts-wqy-zenhei fonts-indic\n",
            "The following NEW packages will be installed:\n",
            "  openjdk-8-jre-headless\n",
            "0 upgraded, 1 newly installed, 0 to remove and 37 not upgraded.\n",
            "Need to get 28.2 MB of archives.\n",
            "After this operation, 104 MB of additional disk space will be used.\n",
            "Ign:1 http://archive.ubuntu.com/ubuntu bionic-updates/universe amd64 openjdk-8-jre-headless amd64 8u292-b10-0ubuntu1~18.04\n",
            "Err:1 http://security.ubuntu.com/ubuntu bionic-updates/universe amd64 openjdk-8-jre-headless amd64 8u292-b10-0ubuntu1~18.04\n",
            "  404  Not Found [IP: 91.189.88.142 80]\n",
            "E: Failed to fetch http://security.ubuntu.com/ubuntu/pool/universe/o/openjdk-8/openjdk-8-jre-headless_8u292-b10-0ubuntu1~18.04_amd64.deb  404  Not Found [IP: 91.189.88.142 80]\n",
            "E: Unable to fetch some archives, maybe run apt-get update or try with --fix-missing?\n",
            "Collecting pyspark\n",
            "  Downloading pyspark-3.2.0.tar.gz (281.3 MB)\n",
            "\u001b[K     |████████████████████████████████| 281.3 MB 38 kB/s \n",
            "\u001b[?25hCollecting py4j==0.10.9.2\n",
            "  Downloading py4j-0.10.9.2-py2.py3-none-any.whl (198 kB)\n",
            "\u001b[K     |████████████████████████████████| 198 kB 61.5 MB/s \n",
            "\u001b[?25hBuilding wheels for collected packages: pyspark\n",
            "  Building wheel for pyspark (setup.py) ... \u001b[?25l\u001b[?25hdone\n",
            "  Created wheel for pyspark: filename=pyspark-3.2.0-py2.py3-none-any.whl size=281805912 sha256=8aed1a78b15b2f342391518054dcb44352c3230bab9cabd5c916599900822988\n",
            "  Stored in directory: /root/.cache/pip/wheels/0b/de/d2/9be5d59d7331c6c2a7c1b6d1a4f463ce107332b1ecd4e80718\n",
            "Successfully built pyspark\n",
            "Installing collected packages: py4j, pyspark\n",
            "Successfully installed py4j-0.10.9.2 pyspark-3.2.0\n"
          ]
        }
      ]
    },
    {
      "cell_type": "code",
      "source": [
        "from pyspark.sql import SparkSession, DataFrame, Window\n",
        "from pyspark.sql.functions import col, regexp_extract, regexp_replace, lit, when\n",
        "import pyspark.sql.functions as func\n",
        "from pyspark.sql.types import *\n",
        "from pyspark.sql.utils import AnalysisException\n",
        "from pyspark import StorageLevel\n",
        "\n",
        "import sys\n",
        "from datetime import datetime, timedelta\n",
        "from functools import reduce"
      ],
      "metadata": {
        "id": "4UQHiNT6TM-6"
      },
      "id": "4UQHiNT6TM-6",
      "execution_count": 11,
      "outputs": []
    },
    {
      "cell_type": "code",
      "source": [
        "spark = SparkSession.builder \\\n",
        "    .appName(\"content-based\") \\\n",
        "    .config(\"spark.sql.files.ignoreCorruptFiles\", \"true\") \\\n",
        "    .config(\"spark.sql.session.timeZone\", \"Asia/Taipei\") \\\n",
        "    .getOrCreate()"
      ],
      "metadata": {
        "id": "B1CFxJtBuNFl"
      },
      "id": "B1CFxJtBuNFl",
      "execution_count": 12,
      "outputs": []
    },
    {
      "cell_type": "markdown",
      "metadata": {
        "id": "Q5CsxxD-TKRO"
      },
      "source": [
        "## 基礎建設"
      ],
      "id": "Q5CsxxD-TKRO"
    },
    {
      "cell_type": "code",
      "execution_count": 13,
      "metadata": {
        "scrolled": true,
        "id": "lZKmuUIpTKRP"
      },
      "outputs": [],
      "source": [
        "import pandas as pd\n",
        "import gzip, json\n",
        "\n",
        "def parse(path):\n",
        "    g = gzip.open(path, 'rb')\n",
        "    for l in g:\n",
        "        yield json.loads(l)\n",
        "\n",
        "def getDF(path):\n",
        "    i = 0\n",
        "    df = {}\n",
        "    for d in parse(path):\n",
        "        df[i] = d\n",
        "        i += 1\n",
        "    return pd.DataFrame.from_dict(df, orient='index')"
      ],
      "id": "lZKmuUIpTKRP"
    },
    {
      "cell_type": "markdown",
      "metadata": {
        "id": "wgVgfC_ITKRR"
      },
      "source": [
        "## 載入資料"
      ],
      "id": "wgVgfC_ITKRR"
    },
    {
      "cell_type": "code",
      "execution_count": 14,
      "metadata": {
        "id": "1duwsf7UTKRR",
        "outputId": "2109084d-1f31-4aeb-dc7d-c86c9343f513",
        "colab": {
          "base_uri": "https://localhost:8080/"
        }
      },
      "outputs": [
        {
          "output_type": "stream",
          "name": "stdout",
          "text": [
            "--2021-12-24 02:03:00--  http://deepyeti.ucsd.edu/jianmo/amazon/categoryFilesSmall/All_Beauty.csv\n",
            "Resolving deepyeti.ucsd.edu (deepyeti.ucsd.edu)... 169.228.63.50\n",
            "Connecting to deepyeti.ucsd.edu (deepyeti.ucsd.edu)|169.228.63.50|:80... connected.\n",
            "HTTP request sent, awaiting response... 200 OK\n",
            "Length: 15499476 (15M) [application/octet-stream]\n",
            "Saving to: ‘All_Beauty.csv’\n",
            "\n",
            "All_Beauty.csv      100%[===================>]  14.78M  19.8MB/s    in 0.7s    \n",
            "\n",
            "2021-12-24 02:03:01 (19.8 MB/s) - ‘All_Beauty.csv’ saved [15499476/15499476]\n",
            "\n",
            "--2021-12-24 02:03:01--  http://deepyeti.ucsd.edu/jianmo/amazon/metaFiles2/meta_All_Beauty.json.gz\n",
            "Resolving deepyeti.ucsd.edu (deepyeti.ucsd.edu)... 169.228.63.50\n",
            "Connecting to deepyeti.ucsd.edu (deepyeti.ucsd.edu)|169.228.63.50|:80... connected.\n",
            "HTTP request sent, awaiting response... 200 OK\n",
            "Length: 10329961 (9.9M) [application/octet-stream]\n",
            "Saving to: ‘meta_All_Beauty.json.gz’\n",
            "\n",
            "meta_All_Beauty.jso 100%[===================>]   9.85M  15.1MB/s    in 0.7s    \n",
            "\n",
            "2021-12-24 02:03:02 (15.1 MB/s) - ‘meta_All_Beauty.json.gz’ saved [10329961/10329961]\n",
            "\n"
          ]
        }
      ],
      "source": [
        "!wget http://deepyeti.ucsd.edu/jianmo/amazon/categoryFilesSmall/All_Beauty.csv\n",
        "!wget http://deepyeti.ucsd.edu/jianmo/amazon/metaFiles2/meta_All_Beauty.json.gz"
      ],
      "id": "1duwsf7UTKRR"
    },
    {
      "cell_type": "code",
      "source": [
        "schema_rating = StructType([\n",
        "                    StructField(\"asin\", StringType())\n",
        "                      , StructField(\"reviewerID\", StringType())\n",
        "                      , StructField(\"overall\", StringType())\n",
        "                      , StructField(\"unixReviewTime\", StringType())\n",
        "                      ])"
      ],
      "metadata": {
        "id": "f0Rh5mk8wyYe"
      },
      "id": "f0Rh5mk8wyYe",
      "execution_count": 15,
      "outputs": []
    },
    {
      "cell_type": "code",
      "source": [
        "metadata = spark.read.json(\"file:////content/meta_All_Beauty.json.gz\")\n",
        "ratings = spark.read.format(\"csv\").option(\"header\", True).schema(schema_rating).load(\"file:///content/All_Beauty.csv\")\n",
        "\n",
        "# metadata = getDF('/content/meta_All_Beauty.json.gz')\n",
        "# ratings = pd.read_csv('/content/All_Beauty.csv', names=['asin', 'reviewerID', 'overall', 'unixReviewTime'], header=None)\n",
        "# metadata.head()\n",
        "# ratings.head()"
      ],
      "metadata": {
        "id": "UrqxpmBhun5l"
      },
      "id": "UrqxpmBhun5l",
      "execution_count": 16,
      "outputs": []
    },
    {
      "cell_type": "code",
      "execution_count": 19,
      "metadata": {
        "id": "htFdVdUzTKRS",
        "outputId": "e3560131-009e-4064-ed67-abde4736d14e",
        "colab": {
          "base_uri": "https://localhost:8080/"
        }
      },
      "outputs": [
        {
          "output_type": "stream",
          "name": "stdout",
          "text": [
            "root\n",
            " |-- asin: string (nullable = true)\n",
            " |-- reviewerID: string (nullable = true)\n",
            " |-- overall: string (nullable = true)\n",
            " |-- unixReviewTime: string (nullable = true)\n",
            "\n"
          ]
        }
      ],
      "source": [
        "ratings.printSchema()"
      ],
      "id": "htFdVdUzTKRS"
    },
    {
      "cell_type": "code",
      "execution_count": 20,
      "metadata": {
        "id": "-72cjrI0TKRS",
        "outputId": "375c0939-620b-4bdb-a777-1e90d4ad4d11",
        "colab": {
          "base_uri": "https://localhost:8080/"
        }
      },
      "outputs": [
        {
          "output_type": "stream",
          "name": "stdout",
          "text": [
            "root\n",
            " |-- also_buy: array (nullable = true)\n",
            " |    |-- element: string (containsNull = true)\n",
            " |-- also_view: array (nullable = true)\n",
            " |    |-- element: string (containsNull = true)\n",
            " |-- asin: string (nullable = true)\n",
            " |-- brand: string (nullable = true)\n",
            " |-- category: array (nullable = true)\n",
            " |    |-- element: string (containsNull = true)\n",
            " |-- date: string (nullable = true)\n",
            " |-- description: array (nullable = true)\n",
            " |    |-- element: string (containsNull = true)\n",
            " |-- details: struct (nullable = true)\n",
            " |    |-- \\n    Item Weight: \\n    : string (nullable = true)\n",
            " |    |-- \\n    Product Dimensions: \\n    : string (nullable = true)\n",
            " |    |-- ASIN:: string (nullable = true)\n",
            " |    |-- ASIN: : string (nullable = true)\n",
            " |    |-- Batteries: string (nullable = true)\n",
            " |    |-- Discontinued by manufacturer:: string (nullable = true)\n",
            " |    |-- Domestic Shipping: : string (nullable = true)\n",
            " |    |-- International Shipping: : string (nullable = true)\n",
            " |    |-- Item model number:: string (nullable = true)\n",
            " |    |-- Shipping Advisory:: string (nullable = true)\n",
            " |    |-- Shipping Weight:: string (nullable = true)\n",
            " |    |-- UPC:: string (nullable = true)\n",
            " |-- feature: array (nullable = true)\n",
            " |    |-- element: string (containsNull = true)\n",
            " |-- fit: string (nullable = true)\n",
            " |-- imageURL: array (nullable = true)\n",
            " |    |-- element: string (containsNull = true)\n",
            " |-- imageURLHighRes: array (nullable = true)\n",
            " |    |-- element: string (containsNull = true)\n",
            " |-- main_cat: string (nullable = true)\n",
            " |-- price: string (nullable = true)\n",
            " |-- rank: string (nullable = true)\n",
            " |-- similar_item: string (nullable = true)\n",
            " |-- tech1: string (nullable = true)\n",
            " |-- tech2: string (nullable = true)\n",
            " |-- title: string (nullable = true)\n",
            "\n"
          ]
        }
      ],
      "source": [
        "metadata.printSchema()"
      ],
      "id": "-72cjrI0TKRS"
    },
    {
      "cell_type": "code",
      "execution_count": 27,
      "metadata": {
        "id": "9LB3rjxlTKRT",
        "outputId": "b6e01cb2-9fda-4e8b-96bc-cd7c8128a754",
        "colab": {
          "base_uri": "https://localhost:8080/"
        }
      },
      "outputs": [
        {
          "output_type": "stream",
          "name": "stdout",
          "text": [
            "+----------+--------------+-------+--------------+-------------------+\n",
            "|asin      |reviewerID    |overall|unixReviewTime|timestamp          |\n",
            "+----------+--------------+-------+--------------+-------------------+\n",
            "|0143026860|A2F5GHSXFQ0W6J|4.0    |1418860800    |2014-12-18 08:00:00|\n",
            "|0143026860|A1572GUYS7DGSR|4.0    |1407628800    |2014-08-10 08:00:00|\n",
            "+----------+--------------+-------+--------------+-------------------+\n",
            "only showing top 2 rows\n",
            "\n"
          ]
        }
      ],
      "source": [
        "ratings.select(\"*\", func.from_unixtime(\"unixReviewTime\",\"yyyy-MM-dd HH:mm:ss\").alias(\"timestamp\")).show(2, False)"
      ],
      "id": "9LB3rjxlTKRT"
    },
    {
      "cell_type": "markdown",
      "metadata": {
        "id": "Wc2EhvHETKRT"
      },
      "source": [
        "## 資料整理"
      ],
      "id": "Wc2EhvHETKRT"
    },
    {
      "cell_type": "code",
      "execution_count": null,
      "metadata": {
        "id": "aCMCFrEpTKRU"
      },
      "outputs": [],
      "source": [
        "ratings['DATE'] = pd.to_datetime(ratings['unixReviewTime'], unit='s')"
      ],
      "id": "aCMCFrEpTKRU"
    },
    {
      "cell_type": "markdown",
      "metadata": {
        "id": "rVlBCcdcTKRU"
      },
      "source": [
        "## 資料切分"
      ],
      "id": "rVlBCcdcTKRU"
    },
    {
      "cell_type": "code",
      "execution_count": null,
      "metadata": {
        "id": "oC7RVyqITKRU"
      },
      "outputs": [],
      "source": [
        "ratings_trainings = ratings[\n",
        "    (ratings['DATE'] < '2018-09-01')\n",
        "]\n",
        "ratings_testings = ratings[\n",
        "    (ratings['DATE'] >= '2018-09-01') & \n",
        "    (ratings['DATE'] <= '2018-09-30')\n",
        "]\n",
        "ratings_testings_by_user = ratings_testings.groupby('reviewerID').agg(list).reset_index()[['reviewerID', 'asin']].to_dict('records')\n",
        "ratings_testings_by_user = { rating['reviewerID']: rating['asin'] for rating in ratings_testings_by_user }\n",
        "users = list(ratings_testings_by_user.keys())"
      ],
      "id": "oC7RVyqITKRU"
    },
    {
      "cell_type": "markdown",
      "metadata": {
        "id": "BAfLCOByTKRV"
      },
      "source": [
        "## 產生推薦"
      ],
      "id": "BAfLCOByTKRV"
    },
    {
      "cell_type": "code",
      "execution_count": null,
      "metadata": {
        "id": "0UMuBa3_TKRV"
      },
      "outputs": [],
      "source": [
        "def recommender(training_data, users=[], k=10):\n",
        "    '''\n",
        "    * training_data: dataframe 輸入的訓練資料集（2018-09-01 以前資料）\n",
        "    * users: [] 需要被推薦的使用者\n",
        "    * k: int 每個使用者需要推薦的商品數\n",
        "    * recommendations: dict\n",
        "      {\n",
        "          使用者一： [推薦商品一, 推薦商品二, ...],\n",
        "          使用者二： [...], ...\n",
        "      }\n",
        "    '''\n",
        "    recommendations = {}\n",
        "    '''\n",
        "    Your Code\n",
        "    '''\n",
        "    return recommendations\n",
        "\n",
        "\n",
        "ratings_by_user = recommender(ratings_trainings, users)\n",
        "ratings_by_user"
      ],
      "id": "0UMuBa3_TKRV"
    },
    {
      "cell_type": "markdown",
      "metadata": {
        "id": "4IgRdUAOTKRW"
      },
      "source": [
        "## 結果評估"
      ],
      "id": "4IgRdUAOTKRW"
    },
    {
      "cell_type": "code",
      "execution_count": null,
      "metadata": {
        "id": "JmICJ7pWTKRW"
      },
      "outputs": [],
      "source": [
        "def evaluate(ratings_testings_by_user={}, ratings_by_user={}, method=None):\n",
        "    '''\n",
        "    * ratings_testings_by_user: dict 真實被購買的商品資料（2018-09-01 以後資料）\n",
        "    * ratings_by_user: dict 利用訓練資料學習的推薦商品\n",
        "    * method: str\n",
        "    * score: float\n",
        "    '''\n",
        "    total = 0\n",
        "    for d in ratings_testings_by_user:\n",
        "        if d in ratings_by_user:\n",
        "            total += len(set(ratings_by_user[d]) & set(ratings_testings_by_user[d]))\n",
        "\n",
        "    score = total / len(ratings_testings)\n",
        "    return score\n",
        "\n",
        "evaluate(ratings_testings_by_user, ratings_by_user)"
      ],
      "id": "JmICJ7pWTKRW"
    },
    {
      "cell_type": "code",
      "execution_count": null,
      "metadata": {
        "id": "YTvtDvnJTKRW"
      },
      "outputs": [],
      "source": [
        ""
      ],
      "id": "YTvtDvnJTKRW"
    }
  ],
  "metadata": {
    "kernelspec": {
      "display_name": "Python 3",
      "language": "python",
      "name": "python3"
    },
    "language_info": {
      "codemirror_mode": {
        "name": "ipython",
        "version": 3
      },
      "file_extension": ".py",
      "mimetype": "text/x-python",
      "name": "python",
      "nbconvert_exporter": "python",
      "pygments_lexer": "ipython3",
      "version": "3.6.5"
    },
    "colab": {
      "name": "sample.ipynb",
      "provenance": []
    }
  },
  "nbformat": 4,
  "nbformat_minor": 5
}