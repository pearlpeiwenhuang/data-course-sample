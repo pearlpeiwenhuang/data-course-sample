{
  "cells": [
    {
      "cell_type": "markdown",
      "metadata": {
        "id": "oeWLDcenTKRL"
      },
      "source": [
        "# Sample Code"
      ],
      "id": "oeWLDcenTKRL"
    },
    {
      "cell_type": "code",
      "source": [
        "!apt-get -y install openjdk-8-jre-headless\n",
        "!pip install pyspark"
      ],
      "metadata": {
        "id": "64g6Da94KGQ8",
        "outputId": "14c0b2d8-3217-4e2f-edc6-61f3f78d811e",
        "colab": {
          "base_uri": "https://localhost:8080/"
        }
      },
      "id": "64g6Da94KGQ8",
      "execution_count": 1,
      "outputs": [
        {
          "output_type": "stream",
          "name": "stdout",
          "text": [
            "Reading package lists... Done\n",
            "Building dependency tree       \n",
            "Reading state information... Done\n",
            "Suggested packages:\n",
            "  libnss-mdns fonts-dejavu-extra fonts-ipafont-gothic fonts-ipafont-mincho\n",
            "  fonts-wqy-microhei fonts-wqy-zenhei fonts-indic\n",
            "The following NEW packages will be installed:\n",
            "  openjdk-8-jre-headless\n",
            "0 upgraded, 1 newly installed, 0 to remove and 37 not upgraded.\n",
            "Need to get 28.2 MB of archives.\n",
            "After this operation, 104 MB of additional disk space will be used.\n",
            "Ign:1 http://archive.ubuntu.com/ubuntu bionic-updates/universe amd64 openjdk-8-jre-headless amd64 8u292-b10-0ubuntu1~18.04\n",
            "Err:1 http://security.ubuntu.com/ubuntu bionic-updates/universe amd64 openjdk-8-jre-headless amd64 8u292-b10-0ubuntu1~18.04\n",
            "  404  Not Found [IP: 91.189.88.152 80]\n",
            "E: Failed to fetch http://security.ubuntu.com/ubuntu/pool/universe/o/openjdk-8/openjdk-8-jre-headless_8u292-b10-0ubuntu1~18.04_amd64.deb  404  Not Found [IP: 91.189.88.152 80]\n",
            "E: Unable to fetch some archives, maybe run apt-get update or try with --fix-missing?\n",
            "Requirement already satisfied: pyspark in /usr/local/lib/python3.7/dist-packages (3.2.0)\n",
            "Requirement already satisfied: py4j==0.10.9.2 in /usr/local/lib/python3.7/dist-packages (from pyspark) (0.10.9.2)\n"
          ]
        }
      ]
    },
    {
      "cell_type": "code",
      "source": [
        "from pyspark.sql import SparkSession, DataFrame, Window\n",
        "from pyspark.sql.functions import col, regexp_extract, regexp_replace, lit, when\n",
        "import pyspark.sql.functions as func\n",
        "from pyspark.sql.types import *\n",
        "from pyspark.sql.utils import AnalysisException\n",
        "from pyspark import StorageLevel\n",
        "\n",
        "import sys\n",
        "from datetime import datetime, timedelta\n",
        "from functools import reduce\n",
        "from itertools import chain"
      ],
      "metadata": {
        "id": "4UQHiNT6TM-6"
      },
      "id": "4UQHiNT6TM-6",
      "execution_count": 2,
      "outputs": []
    },
    {
      "cell_type": "code",
      "source": [
        "spark = SparkSession.builder \\\n",
        "    .appName(\"content-based\") \\\n",
        "    .config(\"spark.sql.files.ignoreCorruptFiles\", \"true\") \\\n",
        "    .config(\"spark.sql.session.timeZone\", \"Asia/Taipei\") \\\n",
        "    .getOrCreate()"
      ],
      "metadata": {
        "id": "B1CFxJtBuNFl"
      },
      "id": "B1CFxJtBuNFl",
      "execution_count": 3,
      "outputs": []
    },
    {
      "cell_type": "markdown",
      "metadata": {
        "id": "Q5CsxxD-TKRO"
      },
      "source": [
        "## 基礎建設"
      ],
      "id": "Q5CsxxD-TKRO"
    },
    {
      "cell_type": "code",
      "execution_count": 4,
      "metadata": {
        "scrolled": true,
        "id": "lZKmuUIpTKRP"
      },
      "outputs": [],
      "source": [
        "import pandas as pd\n",
        "import gzip, json\n",
        "\n",
        "def parse(path):\n",
        "    g = gzip.open(path, 'rb')\n",
        "    for l in g:\n",
        "        yield json.loads(l)\n",
        "\n",
        "def getDF(path):\n",
        "    i = 0\n",
        "    df = {}\n",
        "    for d in parse(path):\n",
        "        df[i] = d\n",
        "        i += 1\n",
        "    return pd.DataFrame.from_dict(df, orient='index')"
      ],
      "id": "lZKmuUIpTKRP"
    },
    {
      "cell_type": "markdown",
      "metadata": {
        "id": "wgVgfC_ITKRR"
      },
      "source": [
        "## 載入資料"
      ],
      "id": "wgVgfC_ITKRR"
    },
    {
      "cell_type": "code",
      "execution_count": 5,
      "metadata": {
        "id": "1duwsf7UTKRR",
        "outputId": "80faa1f7-ff75-4103-f8d1-2e5afd5c7f02",
        "colab": {
          "base_uri": "https://localhost:8080/"
        }
      },
      "outputs": [
        {
          "output_type": "stream",
          "name": "stdout",
          "text": [
            "--2021-12-26 12:07:41--  http://deepyeti.ucsd.edu/jianmo/amazon/categoryFilesSmall/All_Beauty.csv\n",
            "Resolving deepyeti.ucsd.edu (deepyeti.ucsd.edu)... 169.228.63.50\n",
            "Connecting to deepyeti.ucsd.edu (deepyeti.ucsd.edu)|169.228.63.50|:80... connected.\n",
            "HTTP request sent, awaiting response... 200 OK\n",
            "Length: 15499476 (15M) [application/octet-stream]\n",
            "Saving to: ‘All_Beauty.csv.11’\n",
            "\n",
            "All_Beauty.csv.11   100%[===================>]  14.78M  21.4MB/s    in 0.7s    \n",
            "\n",
            "2021-12-26 12:07:42 (21.4 MB/s) - ‘All_Beauty.csv.11’ saved [15499476/15499476]\n",
            "\n",
            "--2021-12-26 12:07:42--  http://deepyeti.ucsd.edu/jianmo/amazon/metaFiles2/meta_All_Beauty.json.gz\n",
            "Resolving deepyeti.ucsd.edu (deepyeti.ucsd.edu)... 169.228.63.50\n",
            "Connecting to deepyeti.ucsd.edu (deepyeti.ucsd.edu)|169.228.63.50|:80... connected.\n",
            "HTTP request sent, awaiting response... 200 OK\n",
            "Length: 10329961 (9.9M) [application/octet-stream]\n",
            "Saving to: ‘meta_All_Beauty.json.gz.11’\n",
            "\n",
            "meta_All_Beauty.jso 100%[===================>]   9.85M  18.4MB/s    in 0.5s    \n",
            "\n",
            "2021-12-26 12:07:43 (18.4 MB/s) - ‘meta_All_Beauty.json.gz.11’ saved [10329961/10329961]\n",
            "\n"
          ]
        }
      ],
      "source": [
        "!wget http://deepyeti.ucsd.edu/jianmo/amazon/categoryFilesSmall/All_Beauty.csv\n",
        "!wget http://deepyeti.ucsd.edu/jianmo/amazon/metaFiles2/meta_All_Beauty.json.gz"
      ],
      "id": "1duwsf7UTKRR"
    },
    {
      "cell_type": "code",
      "source": [
        "# schema_rating = StructType([\n",
        "#                     StructField(\"asin\", StringType())\n",
        "#                       , StructField(\"reviewerID\", StringType())\n",
        "#                       , StructField(\"overall\", StringType())\n",
        "#                       , StructField(\"unixReviewTime\", StringType())\n",
        "#                       ])\n",
        "\n",
        "metadata = spark.read.json(\"file:////content/meta_All_Beauty.json.gz\")\n",
        "# ratings = spark.read.format(\"csv\").option(\"header\", True).schema(schema_rating).load(\"file:///content/All_Beauty.csv\")\n",
        "\n",
        "# metadata = getDF('/content/meta_All_Beauty.json.gz')\n",
        "ratings = pd.read_csv('/content/All_Beauty.csv', names=['asin', 'reviewerID', 'overall', 'unixReviewTime'], header=None)\n",
        "# metadata.head()\n",
        "# ratings.head()"
      ],
      "metadata": {
        "id": "UrqxpmBhun5l"
      },
      "id": "UrqxpmBhun5l",
      "execution_count": 6,
      "outputs": []
    },
    {
      "cell_type": "markdown",
      "metadata": {
        "id": "Wc2EhvHETKRT"
      },
      "source": [
        "## 資料整理"
      ],
      "id": "Wc2EhvHETKRT"
    },
    {
      "cell_type": "code",
      "execution_count": 7,
      "metadata": {
        "id": "-72cjrI0TKRS"
      },
      "outputs": [],
      "source": [
        "metadata = metadata.select(\n",
        "                col(\"asin\")\n",
        "                , col(\"title\")\n",
        "                , func.when(col(\"title\") == '', 0).otherwise(1).alias(\"if_title\")\n",
        "                , col(\"feature\")\n",
        "                , func.when(func.size(\"feature\") == 0, 0).otherwise(1).alias(\"if_feature\")\n",
        "                , col(\"description\")\n",
        "                , func.when(func.size(\"description\") == 0, 0).otherwise(1).alias(\"if_description\")\n",
        "                , func.translate(col(\"price\"), ',$', '').cast(DoubleType()).alias(\"price\")\n",
        "                , col(\"imageURL\"), col(\"imageURLHighRes\")\n",
        "                , func.when(func.size(\"imageURL\") == 0, 0).otherwise(1).alias(\"if_imageURL\")\n",
        "                , func.when(func.size(\"imageURLHighRes\") == 0, 0).otherwise(1).alias(\"if_imageURLHighRes\")\n",
        "                , col(\"also_buy\"), col(\"also_view\")\n",
        "                , func.translate(func.split(col(\"rank\"), ' in ')[0], ',', '').cast(IntegerType()).alias(\"rank_sub_category\")\n",
        "                , func.translate(func.split(col(\"rank\"), ' in ')[1], '()\"];', '').alias(\"sub_category\")\n",
        "                , col(\"brand\")\n",
        "                , col(\"tech1\")\n",
        "                , func.when(func.length(\"tech1\") == 0, 0).otherwise(1).alias(\"if_tech1\")\n",
        "                , col(\"similar_item\"), col(\"date\")\n",
        "                , col(\"details.\\n    Item Weight: \\n    \").alias(\"item_weight\")\n",
        "                , col(\"details.\\n    Product Dimensions: \\n    \").alias(\"product_dimensions\")\n",
        "                , col(\"details.Batteries\").alias(\"batteries\")\n",
        "                , func.when(col(\"details.Batteries\").isNull(), 0).otherwise(1).alias(\"if_batteries\")\n",
        "                , col(\"details.Discontinued by manufacturer:\").alias(\"discountedByManufacturer\")\n",
        "                , func.when(col(\"details.Discontinued by manufacturer:\").isNull(), 0).otherwise(1).alias(\"if_discountedByManufacturer\")\n",
        "                , col(\"details.Domestic Shipping: \").alias(\"domestic_shipping\")\n",
        "                , col(\"details.International Shipping: \").alias(\"international_shipping\")\n",
        "                , col(\"details.Item model number:\").alias(\"item_model_no\")\n",
        "                , col(\"details.Shipping Advisory:\").alias(\"shipping_advisory\")\n",
        "                , col(\"details.Shipping Weight:\").alias(\"shipping_weight\")\n",
        "                )"
      ],
      "id": "-72cjrI0TKRS"
    },
    {
      "cell_type": "code",
      "source": [
        "metadata = metadata.select(col(\"*\"), when(col(\"sub_category\") == 'Beauty & Personal Care ', 'Beauty & Personal Care')\n",
        "                  .when(col(\"sub_category\") == 'Beauty & Personal Care See Top 100', 'Beauty & Personal Care')\n",
        "                  .when(col(\"sub_category\") == 'Beauty & Personal Care See top 100', 'Beauty & Personal Care')\n",
        "                  .when(col(\"sub_category\") == 'Beauty &amp Personal Care ', 'Beauty & Personal Care')\n",
        "                  .when(col(\"sub_category\") == 'Grocery & Gourmet Food ', 'Grocery & Gourmet Food')\n",
        "                  .when(col(\"sub_category\") == 'Grocery & Gourmet Food See Top 100', 'Grocery & Gourmet Food')\n",
        "                  .when(col(\"sub_category\") == 'Grocery &amp Gourmet Food ', 'Grocery & Gourmet Food')\n",
        "                  .when(col(\"sub_category\") == 'Health & Household ', 'Health & Household')\n",
        "                  .when(col(\"sub_category\") == 'Health &amp Household ', 'Health & Household')\n",
        "                  .when(col(\"sub_category\").isNull(), 'no Category')\n",
        "                  .otherwise(col(\"sub_category\")).alias(\"subcategory\")\n",
        "                  , when(col(\"brand\") == '', 'no Category')\n",
        "                  .when(col(\"brand\") == '*', 'no Category')\n",
        "                  .when(col(\"brand\") == '-', 'no Category')\n",
        "                  .when(col(\"brand\") == '....', 'no Category')\n",
        "                  .when(col(\"brand\") == '.......', 'no Category')\n",
        "                  .when(col(\"brand\") == '.........', 'no Category')\n",
        "                  .when(col(\"brand\").isNull(), 'no Category')\n",
        "                  .otherwise(col(\"brand\")).alias(\"brand_filled\"))"
      ],
      "metadata": {
        "id": "-0aUpJ7IteBg"
      },
      "id": "-0aUpJ7IteBg",
      "execution_count": 8,
      "outputs": []
    },
    {
      "cell_type": "code",
      "source": [
        "# if the info on below variables are not null, then sum as 1\n",
        "# log10 rank by sub_category and multiply 100 as score\n",
        "metadata_scored = metadata.withColumn('score_if', func.sum(col(\"if_title\")+col(\"if_feature\")+col(\"if_description\")+col(\"if_imageURL\") \\\n",
        "                                      +col(\"if_imageURLHighRes\")+col(\"if_tech1\")+col(\"if_batteries\") \\\n",
        "                                      +col(\"if_discountedByManufacturer\")).over(Window.partitionBy(\"asin\"))) \\\n",
        "                          .withColumn('score_rank', (100 / func.log10(col(\"rank_sub_category\"))).alias(\"score_rank\")) \\\n",
        "                          .withColumn('product_score', col(\"score_if\") + col(\"score_rank\"))\n",
        "metadata_selected = metadata_scored.select(\"asin\", \"brand_filled\", \"subcategory\", \"product_score\")"
      ],
      "metadata": {
        "id": "_d0TJZ0NUaGQ"
      },
      "id": "_d0TJZ0NUaGQ",
      "execution_count": 9,
      "outputs": []
    },
    {
      "cell_type": "code",
      "source": [
        "# metadata.stat.corr(\"rank_sub_category\", \"score_if\")\n",
        "# metadata_scored.summary().show(10, False)\n",
        "metadata_selected.summary().show(10, False)"
      ],
      "metadata": {
        "colab": {
          "base_uri": "https://localhost:8080/"
        },
        "id": "GXZm7ycO9ZUN",
        "outputId": "33cc4392-9a94-42b7-833b-5891c8b64c27"
      },
      "id": "GXZm7ycO9ZUN",
      "execution_count": 10,
      "outputs": [
        {
          "output_type": "stream",
          "name": "stdout",
          "text": [
            "+-------+-------------------+------------+-----------+------------------+\n",
            "|summary|asin               |brand_filled|subcategory|product_score     |\n",
            "+-------+-------------------+------------+-----------+------------------+\n",
            "|count  |32892              |32892       |32892      |32452             |\n",
            "|mean   |8.525224324631579E9|Infinity    |null       |19.32704697297634 |\n",
            "|stddev |1.088695684419192E9|NaN         |null       |1.9722009771916256|\n",
            "|min    |6546546450         |#Flashmob   |Automotive |16.286408057528053|\n",
            "|25%    |7.41420479E9       |-417.0      |null       |17.912292819689   |\n",
            "|50%    |8.867326759E9      |1907.0      |null       |19.21833163786428 |\n",
            "|75%    |9.623402791E9      |Infinity    |null       |20.272914982707913|\n",
            "|max    |B01HJEGTYK         |zonman      |no Category|68.7639852180729  |\n",
            "+-------+-------------------+------------+-----------+------------------+\n",
            "\n"
          ]
        }
      ]
    },
    {
      "cell_type": "code",
      "source": [
        "metadata_pd = metadata_selected.toPandas()"
      ],
      "metadata": {
        "id": "9HrnBz3T5m-p"
      },
      "id": "9HrnBz3T5m-p",
      "execution_count": 11,
      "outputs": []
    },
    {
      "cell_type": "code",
      "source": [
        "ratings['DATE'] = pd.to_datetime(ratings['unixReviewTime'], unit='s')\n",
        "ratings['avg_review'] = ratings.groupby(['asin'])['overall'].transform('mean')\n",
        "# ratings = ratings.select(\"asin\", \"reviewerID\", col(\"overall\").cast(DoubleType()).alias(\"overall\")\n",
        "#               , func.from_unixtime(\"unixReviewTime\",\"yyyy-MM-dd HH:mm:ss\").alias(\"timestamp\"))"
      ],
      "metadata": {
        "id": "793G3KZzOFEr"
      },
      "id": "793G3KZzOFEr",
      "execution_count": 12,
      "outputs": []
    },
    {
      "cell_type": "code",
      "source": [
        "ratings_metadata = pd.merge(ratings,metadata_pd,on='asin',how='left')\n",
        "ratings_metadata.head(2)"
      ],
      "metadata": {
        "colab": {
          "base_uri": "https://localhost:8080/",
          "height": 112
        },
        "id": "gxdzCchP500l",
        "outputId": "26a71913-3b05-44f6-aea6-b75f439b96d0"
      },
      "id": "gxdzCchP500l",
      "execution_count": 13,
      "outputs": [
        {
          "output_type": "execute_result",
          "data": {
            "text/html": [
              "\n",
              "  <div id=\"df-b0943c74-d931-4ecb-a1ea-1f58af7b1675\">\n",
              "    <div class=\"colab-df-container\">\n",
              "      <div>\n",
              "<style scoped>\n",
              "    .dataframe tbody tr th:only-of-type {\n",
              "        vertical-align: middle;\n",
              "    }\n",
              "\n",
              "    .dataframe tbody tr th {\n",
              "        vertical-align: top;\n",
              "    }\n",
              "\n",
              "    .dataframe thead th {\n",
              "        text-align: right;\n",
              "    }\n",
              "</style>\n",
              "<table border=\"1\" class=\"dataframe\">\n",
              "  <thead>\n",
              "    <tr style=\"text-align: right;\">\n",
              "      <th></th>\n",
              "      <th>asin</th>\n",
              "      <th>reviewerID</th>\n",
              "      <th>overall</th>\n",
              "      <th>unixReviewTime</th>\n",
              "      <th>DATE</th>\n",
              "      <th>avg_review</th>\n",
              "      <th>brand_filled</th>\n",
              "      <th>subcategory</th>\n",
              "      <th>product_score</th>\n",
              "    </tr>\n",
              "  </thead>\n",
              "  <tbody>\n",
              "    <tr>\n",
              "      <th>0</th>\n",
              "      <td>0143026860</td>\n",
              "      <td>A1V6B6TNIC10QE</td>\n",
              "      <td>1.0</td>\n",
              "      <td>1424304000</td>\n",
              "      <td>2015-02-19</td>\n",
              "      <td>4.117647</td>\n",
              "      <td>NaN</td>\n",
              "      <td>NaN</td>\n",
              "      <td>NaN</td>\n",
              "    </tr>\n",
              "    <tr>\n",
              "      <th>1</th>\n",
              "      <td>0143026860</td>\n",
              "      <td>A2F5GHSXFQ0W6J</td>\n",
              "      <td>4.0</td>\n",
              "      <td>1418860800</td>\n",
              "      <td>2014-12-18</td>\n",
              "      <td>4.117647</td>\n",
              "      <td>NaN</td>\n",
              "      <td>NaN</td>\n",
              "      <td>NaN</td>\n",
              "    </tr>\n",
              "  </tbody>\n",
              "</table>\n",
              "</div>\n",
              "      <button class=\"colab-df-convert\" onclick=\"convertToInteractive('df-b0943c74-d931-4ecb-a1ea-1f58af7b1675')\"\n",
              "              title=\"Convert this dataframe to an interactive table.\"\n",
              "              style=\"display:none;\">\n",
              "        \n",
              "  <svg xmlns=\"http://www.w3.org/2000/svg\" height=\"24px\"viewBox=\"0 0 24 24\"\n",
              "       width=\"24px\">\n",
              "    <path d=\"M0 0h24v24H0V0z\" fill=\"none\"/>\n",
              "    <path d=\"M18.56 5.44l.94 2.06.94-2.06 2.06-.94-2.06-.94-.94-2.06-.94 2.06-2.06.94zm-11 1L8.5 8.5l.94-2.06 2.06-.94-2.06-.94L8.5 2.5l-.94 2.06-2.06.94zm10 10l.94 2.06.94-2.06 2.06-.94-2.06-.94-.94-2.06-.94 2.06-2.06.94z\"/><path d=\"M17.41 7.96l-1.37-1.37c-.4-.4-.92-.59-1.43-.59-.52 0-1.04.2-1.43.59L10.3 9.45l-7.72 7.72c-.78.78-.78 2.05 0 2.83L4 21.41c.39.39.9.59 1.41.59.51 0 1.02-.2 1.41-.59l7.78-7.78 2.81-2.81c.8-.78.8-2.07 0-2.86zM5.41 20L4 18.59l7.72-7.72 1.47 1.35L5.41 20z\"/>\n",
              "  </svg>\n",
              "      </button>\n",
              "      \n",
              "  <style>\n",
              "    .colab-df-container {\n",
              "      display:flex;\n",
              "      flex-wrap:wrap;\n",
              "      gap: 12px;\n",
              "    }\n",
              "\n",
              "    .colab-df-convert {\n",
              "      background-color: #E8F0FE;\n",
              "      border: none;\n",
              "      border-radius: 50%;\n",
              "      cursor: pointer;\n",
              "      display: none;\n",
              "      fill: #1967D2;\n",
              "      height: 32px;\n",
              "      padding: 0 0 0 0;\n",
              "      width: 32px;\n",
              "    }\n",
              "\n",
              "    .colab-df-convert:hover {\n",
              "      background-color: #E2EBFA;\n",
              "      box-shadow: 0px 1px 2px rgba(60, 64, 67, 0.3), 0px 1px 3px 1px rgba(60, 64, 67, 0.15);\n",
              "      fill: #174EA6;\n",
              "    }\n",
              "\n",
              "    [theme=dark] .colab-df-convert {\n",
              "      background-color: #3B4455;\n",
              "      fill: #D2E3FC;\n",
              "    }\n",
              "\n",
              "    [theme=dark] .colab-df-convert:hover {\n",
              "      background-color: #434B5C;\n",
              "      box-shadow: 0px 1px 3px 1px rgba(0, 0, 0, 0.15);\n",
              "      filter: drop-shadow(0px 1px 2px rgba(0, 0, 0, 0.3));\n",
              "      fill: #FFFFFF;\n",
              "    }\n",
              "  </style>\n",
              "\n",
              "      <script>\n",
              "        const buttonEl =\n",
              "          document.querySelector('#df-b0943c74-d931-4ecb-a1ea-1f58af7b1675 button.colab-df-convert');\n",
              "        buttonEl.style.display =\n",
              "          google.colab.kernel.accessAllowed ? 'block' : 'none';\n",
              "\n",
              "        async function convertToInteractive(key) {\n",
              "          const element = document.querySelector('#df-b0943c74-d931-4ecb-a1ea-1f58af7b1675');\n",
              "          const dataTable =\n",
              "            await google.colab.kernel.invokeFunction('convertToInteractive',\n",
              "                                                     [key], {});\n",
              "          if (!dataTable) return;\n",
              "\n",
              "          const docLinkHtml = 'Like what you see? Visit the ' +\n",
              "            '<a target=\"_blank\" href=https://colab.research.google.com/notebooks/data_table.ipynb>data table notebook</a>'\n",
              "            + ' to learn more about interactive tables.';\n",
              "          element.innerHTML = '';\n",
              "          dataTable['output_type'] = 'display_data';\n",
              "          await google.colab.output.renderOutput(dataTable, element);\n",
              "          const docLink = document.createElement('div');\n",
              "          docLink.innerHTML = docLinkHtml;\n",
              "          element.appendChild(docLink);\n",
              "        }\n",
              "      </script>\n",
              "    </div>\n",
              "  </div>\n",
              "  "
            ],
            "text/plain": [
              "         asin      reviewerID  overall  ...  brand_filled subcategory  product_score\n",
              "0  0143026860  A1V6B6TNIC10QE      1.0  ...           NaN         NaN            NaN\n",
              "1  0143026860  A2F5GHSXFQ0W6J      4.0  ...           NaN         NaN            NaN\n",
              "\n",
              "[2 rows x 9 columns]"
            ]
          },
          "metadata": {},
          "execution_count": 13
        }
      ]
    },
    {
      "cell_type": "code",
      "source": [
        "ratings_metadata['brand_loyalty'] = ratings_metadata.groupby([\"reviewerID\", \"brand_filled\"])[\"asin\"].transform('count')\n",
        "ratings_metadata['brand_loyalty'].fillna(1, inplace=True)\n",
        "ratings_metadata['subcategory_loyalty'] = ratings_metadata.groupby([\"reviewerID\", \"subcategory\"])[\"asin\"].transform('count')\n",
        "ratings_metadata['subcategory_loyalty'].fillna(1, inplace=True)\n",
        "ratings_metadata['product_popularity'] = ratings_metadata.groupby([\"asin\"])[\"reviewerID\"].transform('count')\n",
        "ratings_metadata['product_score'].fillna(1, inplace=True)\n",
        "ratings_metadata['avg_brandLoyalty'] = ratings_metadata.groupby([\"asin\"])[\"brand_loyalty\"].transform('mean')\n",
        "ratings_metadata.head(2)"
      ],
      "metadata": {
        "colab": {
          "base_uri": "https://localhost:8080/",
          "height": 211
        },
        "id": "2XsX-m7d59rd",
        "outputId": "c5211080-1575-4384-c3b8-3cc7c2b47b58"
      },
      "id": "2XsX-m7d59rd",
      "execution_count": 20,
      "outputs": [
        {
          "output_type": "execute_result",
          "data": {
            "text/html": [
              "\n",
              "  <div id=\"df-424bf72f-4352-4179-bc04-ed9a76dc3240\">\n",
              "    <div class=\"colab-df-container\">\n",
              "      <div>\n",
              "<style scoped>\n",
              "    .dataframe tbody tr th:only-of-type {\n",
              "        vertical-align: middle;\n",
              "    }\n",
              "\n",
              "    .dataframe tbody tr th {\n",
              "        vertical-align: top;\n",
              "    }\n",
              "\n",
              "    .dataframe thead th {\n",
              "        text-align: right;\n",
              "    }\n",
              "</style>\n",
              "<table border=\"1\" class=\"dataframe\">\n",
              "  <thead>\n",
              "    <tr style=\"text-align: right;\">\n",
              "      <th></th>\n",
              "      <th>asin</th>\n",
              "      <th>reviewerID</th>\n",
              "      <th>overall</th>\n",
              "      <th>unixReviewTime</th>\n",
              "      <th>DATE</th>\n",
              "      <th>avg_review</th>\n",
              "      <th>brand_filled</th>\n",
              "      <th>subcategory</th>\n",
              "      <th>product_score</th>\n",
              "      <th>brand_loyalty</th>\n",
              "      <th>subcategory_loyalty</th>\n",
              "      <th>product_popularity</th>\n",
              "      <th>avg_brandLoyalty</th>\n",
              "    </tr>\n",
              "  </thead>\n",
              "  <tbody>\n",
              "    <tr>\n",
              "      <th>0</th>\n",
              "      <td>0143026860</td>\n",
              "      <td>A1V6B6TNIC10QE</td>\n",
              "      <td>1.0</td>\n",
              "      <td>1424304000</td>\n",
              "      <td>2015-02-19</td>\n",
              "      <td>4.117647</td>\n",
              "      <td>NaN</td>\n",
              "      <td>NaN</td>\n",
              "      <td>1.0</td>\n",
              "      <td>1.0</td>\n",
              "      <td>1.0</td>\n",
              "      <td>17</td>\n",
              "      <td>1.0</td>\n",
              "    </tr>\n",
              "    <tr>\n",
              "      <th>1</th>\n",
              "      <td>0143026860</td>\n",
              "      <td>A2F5GHSXFQ0W6J</td>\n",
              "      <td>4.0</td>\n",
              "      <td>1418860800</td>\n",
              "      <td>2014-12-18</td>\n",
              "      <td>4.117647</td>\n",
              "      <td>NaN</td>\n",
              "      <td>NaN</td>\n",
              "      <td>1.0</td>\n",
              "      <td>1.0</td>\n",
              "      <td>1.0</td>\n",
              "      <td>17</td>\n",
              "      <td>1.0</td>\n",
              "    </tr>\n",
              "  </tbody>\n",
              "</table>\n",
              "</div>\n",
              "      <button class=\"colab-df-convert\" onclick=\"convertToInteractive('df-424bf72f-4352-4179-bc04-ed9a76dc3240')\"\n",
              "              title=\"Convert this dataframe to an interactive table.\"\n",
              "              style=\"display:none;\">\n",
              "        \n",
              "  <svg xmlns=\"http://www.w3.org/2000/svg\" height=\"24px\"viewBox=\"0 0 24 24\"\n",
              "       width=\"24px\">\n",
              "    <path d=\"M0 0h24v24H0V0z\" fill=\"none\"/>\n",
              "    <path d=\"M18.56 5.44l.94 2.06.94-2.06 2.06-.94-2.06-.94-.94-2.06-.94 2.06-2.06.94zm-11 1L8.5 8.5l.94-2.06 2.06-.94-2.06-.94L8.5 2.5l-.94 2.06-2.06.94zm10 10l.94 2.06.94-2.06 2.06-.94-2.06-.94-.94-2.06-.94 2.06-2.06.94z\"/><path d=\"M17.41 7.96l-1.37-1.37c-.4-.4-.92-.59-1.43-.59-.52 0-1.04.2-1.43.59L10.3 9.45l-7.72 7.72c-.78.78-.78 2.05 0 2.83L4 21.41c.39.39.9.59 1.41.59.51 0 1.02-.2 1.41-.59l7.78-7.78 2.81-2.81c.8-.78.8-2.07 0-2.86zM5.41 20L4 18.59l7.72-7.72 1.47 1.35L5.41 20z\"/>\n",
              "  </svg>\n",
              "      </button>\n",
              "      \n",
              "  <style>\n",
              "    .colab-df-container {\n",
              "      display:flex;\n",
              "      flex-wrap:wrap;\n",
              "      gap: 12px;\n",
              "    }\n",
              "\n",
              "    .colab-df-convert {\n",
              "      background-color: #E8F0FE;\n",
              "      border: none;\n",
              "      border-radius: 50%;\n",
              "      cursor: pointer;\n",
              "      display: none;\n",
              "      fill: #1967D2;\n",
              "      height: 32px;\n",
              "      padding: 0 0 0 0;\n",
              "      width: 32px;\n",
              "    }\n",
              "\n",
              "    .colab-df-convert:hover {\n",
              "      background-color: #E2EBFA;\n",
              "      box-shadow: 0px 1px 2px rgba(60, 64, 67, 0.3), 0px 1px 3px 1px rgba(60, 64, 67, 0.15);\n",
              "      fill: #174EA6;\n",
              "    }\n",
              "\n",
              "    [theme=dark] .colab-df-convert {\n",
              "      background-color: #3B4455;\n",
              "      fill: #D2E3FC;\n",
              "    }\n",
              "\n",
              "    [theme=dark] .colab-df-convert:hover {\n",
              "      background-color: #434B5C;\n",
              "      box-shadow: 0px 1px 3px 1px rgba(0, 0, 0, 0.15);\n",
              "      filter: drop-shadow(0px 1px 2px rgba(0, 0, 0, 0.3));\n",
              "      fill: #FFFFFF;\n",
              "    }\n",
              "  </style>\n",
              "\n",
              "      <script>\n",
              "        const buttonEl =\n",
              "          document.querySelector('#df-424bf72f-4352-4179-bc04-ed9a76dc3240 button.colab-df-convert');\n",
              "        buttonEl.style.display =\n",
              "          google.colab.kernel.accessAllowed ? 'block' : 'none';\n",
              "\n",
              "        async function convertToInteractive(key) {\n",
              "          const element = document.querySelector('#df-424bf72f-4352-4179-bc04-ed9a76dc3240');\n",
              "          const dataTable =\n",
              "            await google.colab.kernel.invokeFunction('convertToInteractive',\n",
              "                                                     [key], {});\n",
              "          if (!dataTable) return;\n",
              "\n",
              "          const docLinkHtml = 'Like what you see? Visit the ' +\n",
              "            '<a target=\"_blank\" href=https://colab.research.google.com/notebooks/data_table.ipynb>data table notebook</a>'\n",
              "            + ' to learn more about interactive tables.';\n",
              "          element.innerHTML = '';\n",
              "          dataTable['output_type'] = 'display_data';\n",
              "          await google.colab.output.renderOutput(dataTable, element);\n",
              "          const docLink = document.createElement('div');\n",
              "          docLink.innerHTML = docLinkHtml;\n",
              "          element.appendChild(docLink);\n",
              "        }\n",
              "      </script>\n",
              "    </div>\n",
              "  </div>\n",
              "  "
            ],
            "text/plain": [
              "         asin      reviewerID  ...  product_popularity  avg_brandLoyalty\n",
              "0  0143026860  A1V6B6TNIC10QE  ...                  17               1.0\n",
              "1  0143026860  A2F5GHSXFQ0W6J  ...                  17               1.0\n",
              "\n",
              "[2 rows x 13 columns]"
            ]
          },
          "metadata": {},
          "execution_count": 20
        }
      ]
    },
    {
      "cell_type": "code",
      "source": [
        "ratings_metadata.describe()"
      ],
      "metadata": {
        "colab": {
          "base_uri": "https://localhost:8080/",
          "height": 300
        },
        "id": "711n25joGXTT",
        "outputId": "d31a5afe-b5c1-4150-cb71-7911dc09400a"
      },
      "id": "711n25joGXTT",
      "execution_count": 15,
      "outputs": [
        {
          "output_type": "execute_result",
          "data": {
            "text/html": [
              "\n",
              "  <div id=\"df-f26b5d50-dc86-49ad-be8d-dc4468741e6f\">\n",
              "    <div class=\"colab-df-container\">\n",
              "      <div>\n",
              "<style scoped>\n",
              "    .dataframe tbody tr th:only-of-type {\n",
              "        vertical-align: middle;\n",
              "    }\n",
              "\n",
              "    .dataframe tbody tr th {\n",
              "        vertical-align: top;\n",
              "    }\n",
              "\n",
              "    .dataframe thead th {\n",
              "        text-align: right;\n",
              "    }\n",
              "</style>\n",
              "<table border=\"1\" class=\"dataframe\">\n",
              "  <thead>\n",
              "    <tr style=\"text-align: right;\">\n",
              "      <th></th>\n",
              "      <th>overall</th>\n",
              "      <th>unixReviewTime</th>\n",
              "      <th>avg_review</th>\n",
              "      <th>product_score</th>\n",
              "      <th>brand_loyalty</th>\n",
              "      <th>subcategory_loyalty</th>\n",
              "      <th>product_popularity</th>\n",
              "    </tr>\n",
              "  </thead>\n",
              "  <tbody>\n",
              "    <tr>\n",
              "      <th>count</th>\n",
              "      <td>387654.000000</td>\n",
              "      <td>3.876540e+05</td>\n",
              "      <td>387654.000000</td>\n",
              "      <td>387654.000000</td>\n",
              "      <td>387654.000000</td>\n",
              "      <td>387654.000000</td>\n",
              "      <td>387654.000000</td>\n",
              "    </tr>\n",
              "    <tr>\n",
              "      <th>mean</th>\n",
              "      <td>4.118012</td>\n",
              "      <td>1.438586e+09</td>\n",
              "      <td>4.118012</td>\n",
              "      <td>23.070007</td>\n",
              "      <td>1.244744</td>\n",
              "      <td>1.470146</td>\n",
              "      <td>900.689311</td>\n",
              "    </tr>\n",
              "    <tr>\n",
              "      <th>std</th>\n",
              "      <td>1.358516</td>\n",
              "      <td>7.318079e+07</td>\n",
              "      <td>0.643092</td>\n",
              "      <td>7.057271</td>\n",
              "      <td>0.551566</td>\n",
              "      <td>1.086152</td>\n",
              "      <td>1945.473119</td>\n",
              "    </tr>\n",
              "    <tr>\n",
              "      <th>min</th>\n",
              "      <td>1.000000</td>\n",
              "      <td>9.474624e+08</td>\n",
              "      <td>1.000000</td>\n",
              "      <td>1.000000</td>\n",
              "      <td>1.000000</td>\n",
              "      <td>1.000000</td>\n",
              "      <td>1.000000</td>\n",
              "    </tr>\n",
              "    <tr>\n",
              "      <th>25%</th>\n",
              "      <td>4.000000</td>\n",
              "      <td>1.413936e+09</td>\n",
              "      <td>3.857143</td>\n",
              "      <td>20.085894</td>\n",
              "      <td>1.000000</td>\n",
              "      <td>1.000000</td>\n",
              "      <td>20.000000</td>\n",
              "    </tr>\n",
              "    <tr>\n",
              "      <th>50%</th>\n",
              "      <td>5.000000</td>\n",
              "      <td>1.456186e+09</td>\n",
              "      <td>4.238095</td>\n",
              "      <td>21.776706</td>\n",
              "      <td>1.000000</td>\n",
              "      <td>1.000000</td>\n",
              "      <td>114.000000</td>\n",
              "    </tr>\n",
              "    <tr>\n",
              "      <th>75%</th>\n",
              "      <td>5.000000</td>\n",
              "      <td>1.485302e+09</td>\n",
              "      <td>4.529889</td>\n",
              "      <td>24.849992</td>\n",
              "      <td>1.000000</td>\n",
              "      <td>2.000000</td>\n",
              "      <td>589.000000</td>\n",
              "    </tr>\n",
              "    <tr>\n",
              "      <th>max</th>\n",
              "      <td>5.000000</td>\n",
              "      <td>1.538438e+09</td>\n",
              "      <td>5.000000</td>\n",
              "      <td>68.763985</td>\n",
              "      <td>13.000000</td>\n",
              "      <td>26.000000</td>\n",
              "      <td>8672.000000</td>\n",
              "    </tr>\n",
              "  </tbody>\n",
              "</table>\n",
              "</div>\n",
              "      <button class=\"colab-df-convert\" onclick=\"convertToInteractive('df-f26b5d50-dc86-49ad-be8d-dc4468741e6f')\"\n",
              "              title=\"Convert this dataframe to an interactive table.\"\n",
              "              style=\"display:none;\">\n",
              "        \n",
              "  <svg xmlns=\"http://www.w3.org/2000/svg\" height=\"24px\"viewBox=\"0 0 24 24\"\n",
              "       width=\"24px\">\n",
              "    <path d=\"M0 0h24v24H0V0z\" fill=\"none\"/>\n",
              "    <path d=\"M18.56 5.44l.94 2.06.94-2.06 2.06-.94-2.06-.94-.94-2.06-.94 2.06-2.06.94zm-11 1L8.5 8.5l.94-2.06 2.06-.94-2.06-.94L8.5 2.5l-.94 2.06-2.06.94zm10 10l.94 2.06.94-2.06 2.06-.94-2.06-.94-.94-2.06-.94 2.06-2.06.94z\"/><path d=\"M17.41 7.96l-1.37-1.37c-.4-.4-.92-.59-1.43-.59-.52 0-1.04.2-1.43.59L10.3 9.45l-7.72 7.72c-.78.78-.78 2.05 0 2.83L4 21.41c.39.39.9.59 1.41.59.51 0 1.02-.2 1.41-.59l7.78-7.78 2.81-2.81c.8-.78.8-2.07 0-2.86zM5.41 20L4 18.59l7.72-7.72 1.47 1.35L5.41 20z\"/>\n",
              "  </svg>\n",
              "      </button>\n",
              "      \n",
              "  <style>\n",
              "    .colab-df-container {\n",
              "      display:flex;\n",
              "      flex-wrap:wrap;\n",
              "      gap: 12px;\n",
              "    }\n",
              "\n",
              "    .colab-df-convert {\n",
              "      background-color: #E8F0FE;\n",
              "      border: none;\n",
              "      border-radius: 50%;\n",
              "      cursor: pointer;\n",
              "      display: none;\n",
              "      fill: #1967D2;\n",
              "      height: 32px;\n",
              "      padding: 0 0 0 0;\n",
              "      width: 32px;\n",
              "    }\n",
              "\n",
              "    .colab-df-convert:hover {\n",
              "      background-color: #E2EBFA;\n",
              "      box-shadow: 0px 1px 2px rgba(60, 64, 67, 0.3), 0px 1px 3px 1px rgba(60, 64, 67, 0.15);\n",
              "      fill: #174EA6;\n",
              "    }\n",
              "\n",
              "    [theme=dark] .colab-df-convert {\n",
              "      background-color: #3B4455;\n",
              "      fill: #D2E3FC;\n",
              "    }\n",
              "\n",
              "    [theme=dark] .colab-df-convert:hover {\n",
              "      background-color: #434B5C;\n",
              "      box-shadow: 0px 1px 3px 1px rgba(0, 0, 0, 0.15);\n",
              "      filter: drop-shadow(0px 1px 2px rgba(0, 0, 0, 0.3));\n",
              "      fill: #FFFFFF;\n",
              "    }\n",
              "  </style>\n",
              "\n",
              "      <script>\n",
              "        const buttonEl =\n",
              "          document.querySelector('#df-f26b5d50-dc86-49ad-be8d-dc4468741e6f button.colab-df-convert');\n",
              "        buttonEl.style.display =\n",
              "          google.colab.kernel.accessAllowed ? 'block' : 'none';\n",
              "\n",
              "        async function convertToInteractive(key) {\n",
              "          const element = document.querySelector('#df-f26b5d50-dc86-49ad-be8d-dc4468741e6f');\n",
              "          const dataTable =\n",
              "            await google.colab.kernel.invokeFunction('convertToInteractive',\n",
              "                                                     [key], {});\n",
              "          if (!dataTable) return;\n",
              "\n",
              "          const docLinkHtml = 'Like what you see? Visit the ' +\n",
              "            '<a target=\"_blank\" href=https://colab.research.google.com/notebooks/data_table.ipynb>data table notebook</a>'\n",
              "            + ' to learn more about interactive tables.';\n",
              "          element.innerHTML = '';\n",
              "          dataTable['output_type'] = 'display_data';\n",
              "          await google.colab.output.renderOutput(dataTable, element);\n",
              "          const docLink = document.createElement('div');\n",
              "          docLink.innerHTML = docLinkHtml;\n",
              "          element.appendChild(docLink);\n",
              "        }\n",
              "      </script>\n",
              "    </div>\n",
              "  </div>\n",
              "  "
            ],
            "text/plain": [
              "             overall  unixReviewTime  ...  subcategory_loyalty  product_popularity\n",
              "count  387654.000000    3.876540e+05  ...        387654.000000       387654.000000\n",
              "mean        4.118012    1.438586e+09  ...             1.470146          900.689311\n",
              "std         1.358516    7.318079e+07  ...             1.086152         1945.473119\n",
              "min         1.000000    9.474624e+08  ...             1.000000            1.000000\n",
              "25%         4.000000    1.413936e+09  ...             1.000000           20.000000\n",
              "50%         5.000000    1.456186e+09  ...             1.000000          114.000000\n",
              "75%         5.000000    1.485302e+09  ...             2.000000          589.000000\n",
              "max         5.000000    1.538438e+09  ...            26.000000         8672.000000\n",
              "\n",
              "[8 rows x 7 columns]"
            ]
          },
          "metadata": {},
          "execution_count": 15
        }
      ]
    },
    {
      "cell_type": "markdown",
      "metadata": {
        "id": "rVlBCcdcTKRU"
      },
      "source": [
        "## 資料切分"
      ],
      "id": "rVlBCcdcTKRU"
    },
    {
      "cell_type": "code",
      "execution_count": 16,
      "metadata": {
        "id": "oC7RVyqITKRU"
      },
      "outputs": [],
      "source": [
        "ratings_trainings = ratings_metadata[\n",
        "    (ratings_metadata['DATE'] < '2018-09-01')\n",
        "]\n",
        "ratings_testings = ratings_metadata[\n",
        "    (ratings_metadata['DATE'] >= '2018-09-01') & \n",
        "    (ratings_metadata['DATE'] <= '2018-09-30')\n",
        "]\n",
        "ratings_testings_by_user = ratings_testings.groupby('reviewerID').agg(list).reset_index()[['reviewerID', 'asin']].to_dict('records')\n",
        "ratings_testings_by_user = { rating['reviewerID']: rating['asin'] for rating in ratings_testings_by_user }\n",
        "users = list(ratings_testings_by_user.keys())"
      ],
      "id": "oC7RVyqITKRU"
    },
    {
      "cell_type": "markdown",
      "metadata": {
        "id": "BAfLCOByTKRV"
      },
      "source": [
        "## 產生推薦"
      ],
      "id": "BAfLCOByTKRV"
    },
    {
      "cell_type": "code",
      "execution_count": null,
      "metadata": {
        "id": "0UMuBa3_TKRV"
      },
      "outputs": [],
      "source": [
        "def recommender(training_data, users=[], k=10):\n",
        "    '''\n",
        "    * training_data: dataframe 輸入的訓練資料集（2018-09-01 以前資料）\n",
        "    * users: [] 需要被推薦的使用者\n",
        "    * k: int 每個使用者需要推薦的商品數\n",
        "    * recommendations: dict\n",
        "      {\n",
        "          使用者一： [推薦商品一, 推薦商品二, ...],\n",
        "          使用者二： [...], ...\n",
        "      }\n",
        "    '''\n",
        "    recommendations = {}\n",
        "    '''\n",
        "    ruled-based\n",
        "    '''\n",
        "    ratings_trainings = training_data\n",
        "    product_df = ratings_trainings[['asin', 'product_score', 'product_popularity', 'avg_review']].drop_duplicates()\n",
        "    avg_brandLoyalty_df = ratings_trainings[['asin', 'avg_brandLoyalty']].drop_duplicates()\n",
        "\n",
        "    for user in users:\n",
        "      # choose top 2 brands for user\n",
        "      brand_list = []\n",
        "      if len(ratings_trainings[ratings_trainings['reviewerID'] == user][\"brand_loyalty\"]) > 0:\n",
        "        index = ratings_trainings[ratings_trainings['reviewerID'] == user][\"brand_loyalty\"].nlargest(2).index\n",
        "      else:\n",
        "        index = avg_brandLoyalty_df[\"avg_brandLoyalty\"].nlargest(5).index\n",
        "\n",
        "      for id in index:\n",
        "        brand_list.append(ratings_trainings['brand_filled'][id])\n",
        "      brand_list = list(dict.fromkeys(brand_list))\n",
        "\n",
        "      product_list = []\n",
        "      for brand in brand_list:\n",
        "        prod_list = ratings_trainings[ratings_trainings['brand_filled'] == brand]['asin'].tolist()\n",
        "        prod_list = list(dict.fromkeys(prod_list))\n",
        "        product_list.append(prod_list)\n",
        "      product_list = list(chain(*product_list))\n",
        "\n",
        "      # product_score / avg_review / product_popularity\n",
        "      top25_by_productScore = product_df[product_df['asin'].isin(product_list)].nlargest(25, \"product_score\")\n",
        "      top15_by_avgReview = top25_by_productScore.nlargest(15, \"avg_review\")\n",
        "      if len(top15_by_avgReview.asin) >= 10:\n",
        "        bottom = top15_by_avgReview.nsmallest(5, \"product_popularity\")['asin'].tolist()\n",
        "        top = top15_by_avgReview.nlargest(5, \"product_popularity\")['asin'].tolist()\n",
        "        recommendation = bottom + top\n",
        "      else:\n",
        "        sample = len(top15_by_avgReview.asin)\n",
        "        random_sample = 10 - len(top15_by_avgReview.asin)\n",
        "        bottom = top15_by_avgReview.nsmallest(sample, \"product_popularity\")['asin'].tolist()\n",
        "        top = product_df['asin'].sample(n=random_sample).tolist()\n",
        "        recommendation = bottom + top\n",
        "      recommendations[user] = recommendation\n",
        "\n",
        "    return recommendations\n",
        "\n",
        "\n",
        "ratings_by_user = recommender(ratings_trainings, users)\n",
        "ratings_by_user"
      ],
      "id": "0UMuBa3_TKRV"
    },
    {
      "cell_type": "markdown",
      "metadata": {
        "id": "4IgRdUAOTKRW"
      },
      "source": [
        "## 結果評估"
      ],
      "id": "4IgRdUAOTKRW"
    },
    {
      "cell_type": "code",
      "execution_count": 28,
      "metadata": {
        "id": "JmICJ7pWTKRW",
        "colab": {
          "base_uri": "https://localhost:8080/"
        },
        "outputId": "51ea51cb-1382-4c40-c771-9bacea4b71f0"
      },
      "outputs": [
        {
          "output_type": "execute_result",
          "data": {
            "text/plain": [
              "0.013559322033898305"
            ]
          },
          "metadata": {},
          "execution_count": 28
        }
      ],
      "source": [
        "def evaluate(ratings_testings_by_user={}, ratings_by_user={}, method=None):\n",
        "    '''\n",
        "    * ratings_testings_by_user: dict 真實被購買的商品資料（2018-09-01 以後資料）\n",
        "    * ratings_by_user: dict 利用訓練資料學習的推薦商品\n",
        "    * method: str\n",
        "    * score: float\n",
        "    '''\n",
        "    total = 0\n",
        "    for d in ratings_testings_by_user:\n",
        "        if d in ratings_by_user:\n",
        "            total += len(set(ratings_by_user[d]) & set(ratings_testings_by_user[d]))\n",
        "\n",
        "    score = total / len(ratings_testings)\n",
        "    return score\n",
        "\n",
        "evaluate(ratings_testings_by_user, ratings_by_user) \n",
        "\n",
        "# random 0.003389830508474576\n",
        "# rule-based 0.013559322033898305"
      ],
      "id": "JmICJ7pWTKRW"
    },
    {
      "cell_type": "code",
      "source": [
        "def recommender(training_data, users=[], k=2):\n",
        "    '''\n",
        "    * training_data: dataframe 輸入的訓練資料集（2018-09-01 以前資料）\n",
        "    * users: [] 需要被推薦的使用者\n",
        "    * k: int 每個使用者需要推薦的商品數\n",
        "    * recommendations: dict\n",
        "      {\n",
        "          使用者一： [推薦商品一, 推薦商品二, ...],\n",
        "          使用者二： [...], ...\n",
        "      }\n",
        "    '''\n",
        "    recommendations = {}\n",
        "    '''\n",
        "    random-based\n",
        "    '''\n",
        "    ratings_trainings = training_data\n",
        "    recommendations = {user: ratings_trainings['asin'].sample(n=k).tolist() for user in users}\n",
        "    return recommendations\n",
        "ratings_by_user = recommender(ratings_trainings, users)\n",
        "ratings_by_user"
      ],
      "metadata": {
        "id": "Hxn5L0ELriWX"
      },
      "id": "Hxn5L0ELriWX",
      "execution_count": null,
      "outputs": []
    }
  ],
  "metadata": {
    "kernelspec": {
      "display_name": "Python 3",
      "language": "python",
      "name": "python3"
    },
    "language_info": {
      "codemirror_mode": {
        "name": "ipython",
        "version": 3
      },
      "file_extension": ".py",
      "mimetype": "text/x-python",
      "name": "python",
      "nbconvert_exporter": "python",
      "pygments_lexer": "ipython3",
      "version": "3.6.5"
    },
    "colab": {
      "name": "sample.ipynb",
      "provenance": []
    }
  },
  "nbformat": 4,
  "nbformat_minor": 5
}